{
 "cells": [
  {
   "cell_type": "code",
   "execution_count": 1,
   "id": "b47acf99-a33a-40aa-bb70-b8c0b5117bf5",
   "metadata": {
    "execution": {
     "iopub.execute_input": "2022-05-10T17:42:58.809969Z",
     "iopub.status.busy": "2022-05-10T17:42:58.809389Z",
     "iopub.status.idle": "2022-05-10T17:43:29.766715Z",
     "shell.execute_reply": "2022-05-10T17:43:29.766190Z",
     "shell.execute_reply.started": "2022-05-10T17:42:58.809847Z"
    }
   },
   "outputs": [],
   "source": [
    "import pandas as pd\n",
    "import numpy as np\n",
    "from matplotlib import pyplot as plt\n",
    "import sys\n",
    "import os"
   ]
  },
  {
   "cell_type": "code",
   "execution_count": 8,
   "id": "646ded02-8d57-4a64-bc68-2c3c60fb2b2f",
   "metadata": {
    "execution": {
     "iopub.execute_input": "2022-05-10T17:44:08.602948Z",
     "iopub.status.busy": "2022-05-10T17:44:08.602187Z",
     "iopub.status.idle": "2022-05-10T17:44:08.608280Z",
     "shell.execute_reply": "2022-05-10T17:44:08.607330Z",
     "shell.execute_reply.started": "2022-05-10T17:44:08.602881Z"
    },
    "tags": []
   },
   "outputs": [],
   "source": [
    "DATA_DIR = 'user_data/data'"
   ]
  },
  {
   "cell_type": "code",
   "execution_count": null,
   "id": "d87a7633-b1b8-4269-8267-d2186fadb016",
   "metadata": {},
   "outputs": [],
   "source": []
  },
  {
   "cell_type": "code",
   "execution_count": null,
   "id": "b39811b7-059c-4c24-bf35-aaa0e864aa5e",
   "metadata": {},
   "outputs": [],
   "source": []
  },
  {
   "cell_type": "code",
   "execution_count": null,
   "id": "f88c6149-b189-4ad8-81b0-4a4bbb105aa3",
   "metadata": {},
   "outputs": [],
   "source": []
  }
 ],
 "metadata": {
  "kernelspec": {
   "display_name": "freqtrade",
   "language": "python",
   "name": "freqtrade"
  },
  "language_info": {
   "codemirror_mode": {
    "name": "ipython",
    "version": 3
   },
   "file_extension": ".py",
   "mimetype": "text/x-python",
   "name": "python",
   "nbconvert_exporter": "python",
   "pygments_lexer": "ipython3",
   "version": "3.10.4"
  }
 },
 "nbformat": 4,
 "nbformat_minor": 5
}
